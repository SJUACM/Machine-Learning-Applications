{
 "cells": [
  {
   "cell_type": "markdown",
   "metadata": {},
   "source": [
    "# Predicting Whether an Instagram Account is Fake or Genuine\n",
    "\n",
    "Author: *Khoi Ngo*"
   ]
  },
  {
   "cell_type": "code",
   "execution_count": 1,
   "metadata": {},
   "outputs": [],
   "source": [
    "import numpy as np\n",
    "import pandas as pd\n",
    "import matplotlib.pyplot as plt\n",
    "import seaborn as sns"
   ]
  },
  {
   "cell_type": "markdown",
   "metadata": {},
   "source": [
    "## Overview of Steps to Accomplish Notebook"
   ]
  },
  {
   "cell_type": "markdown",
   "metadata": {},
   "source": [
    "## 0. Function Definitions"
   ]
  },
  {
   "cell_type": "code",
   "execution_count": 2,
   "metadata": {},
   "outputs": [],
   "source": [
    "from sklearn.datasets import load_files\n",
    "\n",
    "def load_train_data():\n",
    "    ''' Load data from csv files, Train data \n",
    "        Splits data into X (feature matrix) and y (labels)\n",
    "        \n",
    "        returns: X_train, y_train\n",
    "        \n",
    "    '''\n",
    "    train_data = pd.read_csv('train.csv', header = 0)\n",
    "    \n",
    "    X_train = train_data.drop(columns='fake')\n",
    "    y_train = train_data['fake']\n",
    "    \n",
    "    return X_train, y_train"
   ]
  },
  {
   "cell_type": "code",
   "execution_count": 3,
   "metadata": {},
   "outputs": [],
   "source": [
    "from sklearn.datasets import load_files\n",
    "\n",
    "def load_test_data():\n",
    "    ''' Load data from csv files, Train and Test data \n",
    "        Splits data into X (feature matrix) and y (labels)\n",
    "        \n",
    "        returns: X_test, y_test\n",
    "        \n",
    "    '''\n",
    "    test_data = pd.read_csv('test.csv', header = 0)\n",
    "    \n",
    "    X_test = test_data.drop(columns='fake')\n",
    "    y_test = test_data['fake']\n",
    "    \n",
    "    return X_test, y_test"
   ]
  },
  {
   "cell_type": "code",
   "execution_count": 4,
   "metadata": {},
   "outputs": [],
   "source": [
    "from sklearn.model_selection import cross_validate\n",
    "\n",
    "\n",
    "def get_classifier_cv_score(model, X, y, scoring='accuracy', cv=7):\n",
    "    '''Calculate train and validation score of classifier (model) using cross-validation\n",
    "        \n",
    "        \n",
    "        model (sklearn classifier): Classifier to train and evaluate\n",
    "        X (numpy.array or pandas.DataFrame): Feature matrix\n",
    "        y (numpy.array or pandas.Series): Target vector\n",
    "        scoring (str): a scoring string accepted by sklearn.metrics.cross_validate()\n",
    "        cv (int): number of cross-validation folds see sklearn.metrics.cross_validate()\n",
    "        \n",
    "        returns: mean training score, mean validation score\n",
    "    \n",
    "    '''\n",
    "    scores = cross_validate(model, X, y, cv=cv, scoring=scoring, return_train_score=True)\n",
    "    train_scores = scores['train_score']\n",
    "    val_scores = scores['test_score']\n",
    "    \n",
    "    train_mean = np.mean(train_scores)\n",
    "    val_mean = np.mean(val_scores)\n",
    "    \n",
    "    return train_mean, val_mean"
   ]
  },
  {
   "cell_type": "code",
   "execution_count": 5,
   "metadata": {},
   "outputs": [],
   "source": [
    "def print_grid_search_result(grid_search):\n",
    "    '''Prints best parameters and mean training and validation scores of a grid search object.\n",
    "    \n",
    "        grid_search (sklearn GridSearchCV): Fitted GridSearchCV object\n",
    "        \n",
    "        scores are printed with 3 decimal places.\n",
    "        \n",
    "    '''\n",
    "    \n",
    "     #TODO: implement function body\n",
    "    \n",
    "    print(grid_search.best_params_)\n",
    "    \n",
    "    best_train = grid_search.cv_results_[\"mean_train_score\"][grid_search.best_index_]\n",
    "    print(\"best mean_train_score: {:.3f}\".format(best_train))\n",
    "        \n",
    "    best_test = grid_search.cv_results_[\"mean_test_score\"][grid_search.best_index_]\n",
    "    print(\"best mean_test_score: {:.3f}\".format(best_test))"
   ]
  },
  {
   "cell_type": "code",
   "execution_count": 6,
   "metadata": {},
   "outputs": [],
   "source": [
    "from sklearn.metrics import confusion_matrix\n",
    "\n",
    "def plot_confusion_matrix(y_actual, y_pred, labels, title=''):\n",
    "    '''Creates a heatmap plot of the confusion matrix.\n",
    "    \n",
    "        y_actual (pandas.DataSeries or numpy.Array): Ground truth label vector\n",
    "        y_pred (pandas.DataSeries or numpy.Array): Predicted label vector\n",
    "        labels (list(str)): Class names used for plotting (ticklabels)\n",
    "        title (str): Plot title\n",
    "        \n",
    "        uses sklearn.metrics.confusion_matrix\n",
    "        \n",
    "    '''\n",
    "    data = confusion_matrix(y_actual, y_pred)\n",
    "    ax = sns.heatmap(data,\n",
    "                     annot=True,\n",
    "                     cbar=False,\n",
    "                     fmt='d',\n",
    "                     xticklabels = labels,\n",
    "                     yticklabels = labels)\n",
    "    ax.set_title(title)\n",
    "    ax.set_xlabel(\"predicted values\")\n",
    "    ax.set_ylabel(\"actual values\")"
   ]
  },
  {
   "cell_type": "markdown",
   "metadata": {},
   "source": [
    "## 1. Load Data"
   ]
  },
  {
   "cell_type": "code",
   "execution_count": 7,
   "metadata": {},
   "outputs": [
    {
     "name": "stdout",
     "output_type": "stream",
     "text": [
      "<class 'pandas.core.frame.DataFrame'>\n",
      "RangeIndex: 576 entries, 0 to 575\n",
      "Data columns (total 11 columns):\n",
      " #   Column                Non-Null Count  Dtype  \n",
      "---  ------                --------------  -----  \n",
      " 0   profile pic           576 non-null    int64  \n",
      " 1   nums/length username  576 non-null    float64\n",
      " 2   fullname words        576 non-null    int64  \n",
      " 3   nums/length fullname  576 non-null    float64\n",
      " 4   name==username        576 non-null    int64  \n",
      " 5   description length    576 non-null    int64  \n",
      " 6   external URL          576 non-null    int64  \n",
      " 7   private               576 non-null    int64  \n",
      " 8   #posts                576 non-null    int64  \n",
      " 9   #followers            576 non-null    int64  \n",
      " 10  #follows              576 non-null    int64  \n",
      "dtypes: float64(2), int64(9)\n",
      "memory usage: 49.6 KB\n",
      "None\n"
     ]
    }
   ],
   "source": [
    "X_data, y_data = load_train_data()\n",
    "print(X_data.info())"
   ]
  },
  {
   "cell_type": "code",
   "execution_count": 8,
   "metadata": {},
   "outputs": [
    {
     "data": {
      "text/html": [
       "<div>\n",
       "<style scoped>\n",
       "    .dataframe tbody tr th:only-of-type {\n",
       "        vertical-align: middle;\n",
       "    }\n",
       "\n",
       "    .dataframe tbody tr th {\n",
       "        vertical-align: top;\n",
       "    }\n",
       "\n",
       "    .dataframe thead th {\n",
       "        text-align: right;\n",
       "    }\n",
       "</style>\n",
       "<table border=\"1\" class=\"dataframe\">\n",
       "  <thead>\n",
       "    <tr style=\"text-align: right;\">\n",
       "      <th></th>\n",
       "      <th>profile pic</th>\n",
       "      <th>nums/length username</th>\n",
       "      <th>fullname words</th>\n",
       "      <th>nums/length fullname</th>\n",
       "      <th>name==username</th>\n",
       "      <th>description length</th>\n",
       "      <th>external URL</th>\n",
       "      <th>private</th>\n",
       "      <th>#posts</th>\n",
       "      <th>#followers</th>\n",
       "      <th>#follows</th>\n",
       "    </tr>\n",
       "  </thead>\n",
       "  <tbody>\n",
       "    <tr>\n",
       "      <th>0</th>\n",
       "      <td>1</td>\n",
       "      <td>0.27</td>\n",
       "      <td>0</td>\n",
       "      <td>0.0</td>\n",
       "      <td>0</td>\n",
       "      <td>53</td>\n",
       "      <td>0</td>\n",
       "      <td>0</td>\n",
       "      <td>32</td>\n",
       "      <td>1000</td>\n",
       "      <td>955</td>\n",
       "    </tr>\n",
       "    <tr>\n",
       "      <th>1</th>\n",
       "      <td>1</td>\n",
       "      <td>0.00</td>\n",
       "      <td>2</td>\n",
       "      <td>0.0</td>\n",
       "      <td>0</td>\n",
       "      <td>44</td>\n",
       "      <td>0</td>\n",
       "      <td>0</td>\n",
       "      <td>286</td>\n",
       "      <td>2740</td>\n",
       "      <td>533</td>\n",
       "    </tr>\n",
       "    <tr>\n",
       "      <th>2</th>\n",
       "      <td>1</td>\n",
       "      <td>0.10</td>\n",
       "      <td>2</td>\n",
       "      <td>0.0</td>\n",
       "      <td>0</td>\n",
       "      <td>0</td>\n",
       "      <td>0</td>\n",
       "      <td>1</td>\n",
       "      <td>13</td>\n",
       "      <td>159</td>\n",
       "      <td>98</td>\n",
       "    </tr>\n",
       "    <tr>\n",
       "      <th>3</th>\n",
       "      <td>1</td>\n",
       "      <td>0.00</td>\n",
       "      <td>1</td>\n",
       "      <td>0.0</td>\n",
       "      <td>0</td>\n",
       "      <td>82</td>\n",
       "      <td>0</td>\n",
       "      <td>0</td>\n",
       "      <td>679</td>\n",
       "      <td>414</td>\n",
       "      <td>651</td>\n",
       "    </tr>\n",
       "    <tr>\n",
       "      <th>4</th>\n",
       "      <td>1</td>\n",
       "      <td>0.00</td>\n",
       "      <td>2</td>\n",
       "      <td>0.0</td>\n",
       "      <td>0</td>\n",
       "      <td>0</td>\n",
       "      <td>0</td>\n",
       "      <td>1</td>\n",
       "      <td>6</td>\n",
       "      <td>151</td>\n",
       "      <td>126</td>\n",
       "    </tr>\n",
       "  </tbody>\n",
       "</table>\n",
       "</div>"
      ],
      "text/plain": [
       "   profile pic  nums/length username  fullname words  nums/length fullname  \\\n",
       "0            1                  0.27               0                   0.0   \n",
       "1            1                  0.00               2                   0.0   \n",
       "2            1                  0.10               2                   0.0   \n",
       "3            1                  0.00               1                   0.0   \n",
       "4            1                  0.00               2                   0.0   \n",
       "\n",
       "   name==username  description length  external URL  private  #posts  \\\n",
       "0               0                  53             0        0      32   \n",
       "1               0                  44             0        0     286   \n",
       "2               0                   0             0        1      13   \n",
       "3               0                  82             0        0     679   \n",
       "4               0                   0             0        1       6   \n",
       "\n",
       "   #followers  #follows  \n",
       "0        1000       955  \n",
       "1        2740       533  \n",
       "2         159        98  \n",
       "3         414       651  \n",
       "4         151       126  "
      ]
     },
     "execution_count": 8,
     "metadata": {},
     "output_type": "execute_result"
    }
   ],
   "source": [
    "X_data.head()"
   ]
  },
  {
   "cell_type": "code",
   "execution_count": 9,
   "metadata": {},
   "outputs": [
    {
     "name": "stdout",
     "output_type": "stream",
     "text": [
      "Size:  (576, 11) , Type:  <class 'pandas.core.frame.DataFrame'>\n",
      "Size:  (576,) , Type:  <class 'pandas.core.series.Series'>\n"
     ]
    }
   ],
   "source": [
    "print(\"Size: \",X_data.shape, \", Type: \", type(X_data))\n",
    "print(\"Size: \",y_data.shape, \", Type: \", type(y_data))"
   ]
  },
  {
   "cell_type": "markdown",
   "metadata": {},
   "source": [
    "## 2. Inspect Data"
   ]
  },
  {
   "cell_type": "markdown",
   "metadata": {},
   "source": [
    "### 2.1 Seeing Any Correlation in Features\n",
    "- We can see that there is no correlation among the features\n",
    "- They are roughly around 0 in each feature comparison."
   ]
  },
  {
   "cell_type": "code",
   "execution_count": 10,
   "metadata": {},
   "outputs": [
    {
     "data": {
      "text/plain": [
       "Text(0.5, 1.0, 'Correlation Heatmap Between Features')"
      ]
     },
     "execution_count": 10,
     "metadata": {},
     "output_type": "execute_result"
    },
    {
     "data": {
      "image/png": "[encoded data removed]",
      "text/plain": [
       "<Figure size 432x288 with 2 Axes>"
      ]
     },
     "metadata": {
      "needs_background": "light"
     },
     "output_type": "display_data"
    }
   ],
   "source": [
    "data_corr = X_data.corr(method='pearson')\n",
    "ax = sns.heatmap(data_corr, vmin=-1, vmax=1, cmap='BrBG')\n",
    "ax.set_title(\"Correlation Heatmap Between Features\")"
   ]
  },
  {
   "cell_type": "markdown",
   "metadata": {},
   "source": [
    "### 2.2 Missing any Values\n",
    "- We can see that the features are all filled out and we do not need to modify the existing data"
   ]
  },
  {
   "cell_type": "code",
   "execution_count": 11,
   "metadata": {},
   "outputs": [
    {
     "name": "stdout",
     "output_type": "stream",
     "text": [
      "profile pic             0\n",
      "nums/length username    0\n",
      "fullname words          0\n",
      "nums/length fullname    0\n",
      "name==username          0\n",
      "description length      0\n",
      "external URL            0\n",
      "private                 0\n",
      "#posts                  0\n",
      "#followers              0\n",
      "#follows                0\n",
      "dtype: int64\n"
     ]
    }
   ],
   "source": [
    "print(X_data.isnull().sum())"
   ]
  },
  {
   "cell_type": "markdown",
   "metadata": {},
   "source": [
    "### 2.3 Checking if Imbalance in Labels\n",
    "- The labels is about 1:1 which means there is no imbalance in the labels. \n",
    "- If there was, the ratio would be more 2:1."
   ]
  },
  {
   "cell_type": "code",
   "execution_count": 12,
   "metadata": {},
   "outputs": [
    {
     "name": "stdout",
     "output_type": "stream",
     "text": [
      "Label:  0 , Frequency:  288\n",
      "Label:  1 , Frequency:  288\n"
     ]
    }
   ],
   "source": [
    "unique, freq = np.unique(y_data, return_counts = True) \n",
    "\n",
    "for i, j in zip(unique, freq):\n",
    "    print(\"Label: \", i, \", Frequency: \", j)"
   ]
  },
  {
   "cell_type": "markdown",
   "metadata": {},
   "source": [
    "## 3. Create training and test sets"
   ]
  },
  {
   "cell_type": "code",
   "execution_count": 13,
   "metadata": {},
   "outputs": [],
   "source": [
    "from sklearn.model_selection import train_test_split\n",
    "X_train, X_test, y_train, y_test = train_test_split(X_data, y_data, test_size=0.2, random_state=37)"
   ]
  },
  {
   "cell_type": "code",
   "execution_count": 14,
   "metadata": {},
   "outputs": [
    {
     "name": "stdout",
     "output_type": "stream",
     "text": [
      "(460, 11)\n",
      "(460,)\n"
     ]
    }
   ],
   "source": [
    "print(X_train.shape)\n",
    "print(y_train.shape)"
   ]
  },
  {
   "cell_type": "markdown",
   "metadata": {},
   "source": [
    "## 4. Compare Models Using Cross-Validation"
   ]
  },
  {
   "cell_type": "code",
   "execution_count": 15,
   "metadata": {},
   "outputs": [
    {
     "name": "stdout",
     "output_type": "stream",
     "text": [
      "-------------------------------------\n",
      "Model: RandomForestClassifier \n",
      "train_score: 1.000\n",
      "validation_score: 0.984\n",
      "-------------------------------------\n",
      "Model: GradientBoostingClassifier \n",
      "train_score: 1.000\n",
      "validation_score: 0.979\n",
      "-------------------------------------\n",
      "Model: LogisticRegression \n",
      "train_score: 0.981\n",
      "validation_score: 0.975\n",
      "-------------------------------------\n",
      "Model: SVC \n",
      "train_score: 0.929\n",
      "validation_score: 0.928\n",
      "-------------------------------------\n",
      "Model: GaussianNB \n",
      "train_score: 0.804\n",
      "validation_score: 0.821\n",
      "-------------------------------------\n"
     ]
    }
   ],
   "source": [
    "from sklearn.linear_model import LogisticRegression\n",
    "from sklearn.ensemble import RandomForestClassifier, GradientBoostingClassifier\n",
    "from sklearn.svm import SVC\n",
    "from sklearn.naive_bayes import GaussianNB\n",
    "\n",
    "model_list = [LogisticRegression(max_iter=600),\n",
    "              SVC(), \n",
    "              GaussianNB(),\n",
    "              RandomForestClassifier(random_state=55),\n",
    "              GradientBoostingClassifier(random_state=56)]\n",
    "\n",
    "train_scores = []\n",
    "val_scores = []\n",
    "\n",
    "for model in model_list:\n",
    "    train, val = get_classifier_cv_score(model, X_train, y_train,'average_precision')\n",
    "    train_scores.append(train)\n",
    "    val_scores.append(val)\n",
    "    \n",
    "models_score = sorted(list(zip(val_scores, train_scores, model_list)), reverse=True)\n",
    "\n",
    "print(\"-------------------------------------\")\n",
    "for val, train, model in models_score:\n",
    "    print(\"Model: {} \".format(model.__class__.__name__))\n",
    "\n",
    "    print(\"train_score: {:.3f}\".format(train)) \n",
    "\n",
    "    print(\"validation_score: {:.3f}\".format(val)) \n",
    "\n",
    "    print(\"-------------------------------------\")"
   ]
  },
  {
   "cell_type": "markdown",
   "metadata": {},
   "source": [
    "- We will select the two best models to continue.\n",
    "- These models are Random Forest Classifier and Gradient Boosting Classifier."
   ]
  },
  {
   "cell_type": "markdown",
   "metadata": {},
   "source": [
    "## 5. Hyperparameter Tuning Using Grid Search"
   ]
  },
  {
   "cell_type": "markdown",
   "metadata": {},
   "source": [
    "### 5.1 Grid Search for RandomForestClassifier"
   ]
  },
  {
   "cell_type": "code",
   "execution_count": 16,
   "metadata": {},
   "outputs": [],
   "source": [
    "from sklearn.model_selection import GridSearchCV\n",
    "import os\n",
    "#if run on own computer\n",
    "#num_cpu = int(os.environ['NUMBER_OF_PROCESSORS'])\n",
    "\n",
    "model = RandomForestClassifier(random_state=55)\n",
    "\n",
    "parameters = {'n_estimators': [300, 500, 700, 1000],\n",
    "              'max_depth': [7, 9, 11, 13]}\n",
    "\n",
    "#if run on own computer\n",
    "#grid1 = GridSearchCV(model, parameters, cv=7, scoring='average_precision', n_jobs=num_cpu, return_train_score=True)\n",
    "grid1 = GridSearchCV(model, parameters, cv=7, scoring='average_precision',return_train_score=True)"
   ]
  },
  {
   "cell_type": "code",
   "execution_count": 17,
   "metadata": {},
   "outputs": [
    {
     "data": {
      "text/plain": [
       "GridSearchCV(cv=7, estimator=RandomForestClassifier(random_state=55),\n",
       "             param_grid={'max_depth': [7, 9, 11, 13],\n",
       "                         'n_estimators': [300, 500, 700, 1000]},\n",
       "             return_train_score=True, scoring='average_precision')"
      ]
     },
     "execution_count": 17,
     "metadata": {},
     "output_type": "execute_result"
    }
   ],
   "source": [
    "grid1.fit(X_train, y_train)"
   ]
  },
  {
   "cell_type": "code",
   "execution_count": 18,
   "metadata": {},
   "outputs": [
    {
     "name": "stdout",
     "output_type": "stream",
     "text": [
      "{'max_depth': 7, 'n_estimators': 700}\n",
      "best mean_train_score: 1.000\n",
      "best mean_test_score: 0.985\n"
     ]
    }
   ],
   "source": [
    "print_grid_search_result(grid1)"
   ]
  },
  {
   "cell_type": "markdown",
   "metadata": {},
   "source": [
    "### 5.2 Grid Search for Gradient Boosting Classifier"
   ]
  },
  {
   "cell_type": "code",
   "execution_count": 19,
   "metadata": {},
   "outputs": [],
   "source": [
    "model = GradientBoostingClassifier(max_depth=5, random_state=56)\n",
    "\n",
    "parameters = {'n_estimators': [50, 100, 200],\n",
    "              'learning_rate': [0.001, 0.01, 0.1, 1.0, 10.0]}\n",
    "\n",
    "#if run on own computer\n",
    "#grid2 = GridSearchCV(model, parameters, cv=7, scoring='average_precision', n_jobs=num_cpu, return_train_score=True)\n",
    "grid2 = GridSearchCV(model, parameters, cv=7, scoring='average_precision', return_train_score=True)"
   ]
  },
  {
   "cell_type": "code",
   "execution_count": 20,
   "metadata": {},
   "outputs": [
    {
     "data": {
      "text/plain": [
       "GridSearchCV(cv=7,\n",
       "             estimator=GradientBoostingClassifier(max_depth=5, random_state=56),\n",
       "             param_grid={'learning_rate': [0.001, 0.01, 0.1, 1.0, 10.0],\n",
       "                         'n_estimators': [50, 100, 200]},\n",
       "             return_train_score=True, scoring='average_precision')"
      ]
     },
     "execution_count": 20,
     "metadata": {},
     "output_type": "execute_result"
    }
   ],
   "source": [
    "grid2.fit(X_train, y_train)"
   ]
  },
  {
   "cell_type": "code",
   "execution_count": 21,
   "metadata": {},
   "outputs": [
    {
     "name": "stdout",
     "output_type": "stream",
     "text": [
      "{'learning_rate': 1.0, 'n_estimators': 50}\n",
      "best mean_train_score: 1.000\n",
      "best mean_test_score: 0.981\n"
     ]
    }
   ],
   "source": [
    "print_grid_search_result(grid2)"
   ]
  },
  {
   "cell_type": "markdown",
   "metadata": {},
   "source": [
    "## 6. Pipeline"
   ]
  },
  {
   "cell_type": "markdown",
   "metadata": {},
   "source": [
    "- Now we will use the best model from our grid search, which is Random Forest Classifier\n",
    "- We will apply a pipeline since we need to standardize our data"
   ]
  },
  {
   "cell_type": "code",
   "execution_count": 22,
   "metadata": {},
   "outputs": [
    {
     "data": {
      "text/plain": [
       "Pipeline(steps=[('preprocessing', StandardScaler()),\n",
       "                ('classifier',\n",
       "                 RandomForestClassifier(max_depth=7, n_estimators=700,\n",
       "                                        random_state=55))])"
      ]
     },
     "execution_count": 22,
     "metadata": {},
     "output_type": "execute_result"
    }
   ],
   "source": [
    "from sklearn.pipeline import Pipeline\n",
    "from sklearn.preprocessing import StandardScaler\n",
    "\n",
    "pipeline = Pipeline([('preprocessing', StandardScaler()), ('classifier', grid1.best_estimator_)])\n",
    "pipeline.fit(X_train, y_train)"
   ]
  },
  {
   "cell_type": "code",
   "execution_count": 23,
   "metadata": {},
   "outputs": [
    {
     "name": "stdout",
     "output_type": "stream",
     "text": [
      "Test score: 0.922\n"
     ]
    }
   ],
   "source": [
    "print(\"Test score: {:.3f}\".format(pipeline.score(X_test, y_test)))"
   ]
  },
  {
   "cell_type": "markdown",
   "metadata": {},
   "source": [
    "## 7. Final Evaluation"
   ]
  },
  {
   "cell_type": "markdown",
   "metadata": {},
   "source": [
    "- Finally we have a working model to do a final evaluation on a reserve data"
   ]
  },
  {
   "cell_type": "code",
   "execution_count": 24,
   "metadata": {},
   "outputs": [],
   "source": [
    "X_final, y_final = load_test_data()"
   ]
  },
  {
   "cell_type": "code",
   "execution_count": 25,
   "metadata": {},
   "outputs": [
    {
     "name": "stdout",
     "output_type": "stream",
     "text": [
      "Test score: 0.908\n"
     ]
    }
   ],
   "source": [
    "print(\"Test score: {:.3f}\".format(pipeline.score(X_final, y_final)))"
   ]
  },
  {
   "cell_type": "code",
   "execution_count": 26,
   "metadata": {},
   "outputs": [
    {
     "name": "stdout",
     "output_type": "stream",
     "text": [
      "              precision    recall  f1-score   support\n",
      "\n",
      "     genuine       0.90      0.92      0.91        60\n",
      "        fake       0.92      0.90      0.91        60\n",
      "\n",
      "    accuracy                           0.91       120\n",
      "   macro avg       0.91      0.91      0.91       120\n",
      "weighted avg       0.91      0.91      0.91       120\n",
      "\n"
     ]
    }
   ],
   "source": [
    "from sklearn.metrics import classification_report\n",
    "y_pred = pipeline.predict(X_final)\n",
    "print(classification_report(y_final, y_pred, target_names=[\"genuine\", \"fake\"]))"
   ]
  },
  {
   "cell_type": "code",
   "execution_count": 27,
   "metadata": {},
   "outputs": [
    {
     "data": {
      "image/png": "[encoded data removed]",
      "text/plain": [
       "<Figure size 432x288 with 1 Axes>"
      ]
     },
     "metadata": {
      "needs_background": "light"
     },
     "output_type": "display_data"
    }
   ],
   "source": [
    "labels = [\"genuine\", \"fake\"]\n",
    "title = \"Predicting Fake Instagram Account\"\n",
    "plot_confusion_matrix(y_final, y_pred, labels, title)"
   ]
  },
  {
   "cell_type": "markdown",
   "metadata": {},
   "source": [
    "- We can see our model predicted around 91.5% fake accounts and 90.2% genuine accounts correctly\n",
    "- The model only predicted 11 accounts wrong"
   ]
  }
 ],
 "metadata": {
  "kernelspec": {
   "display_name": "Python 3",
   "language": "python",
   "name": "python3"
  },
  "language_info": {
   "codemirror_mode": {
    "name": "ipython",
    "version": 3
   },
   "file_extension": ".py",
   "mimetype": "text/x-python",
   "name": "python",
   "nbconvert_exporter": "python",
   "pygments_lexer": "ipython3",
   "version": "3.6.7"
  }
 },
 "nbformat": 4,
 "nbformat_minor": 4
}
